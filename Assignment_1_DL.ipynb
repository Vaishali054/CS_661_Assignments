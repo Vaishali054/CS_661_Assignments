{
  "cells": [
    {
      "cell_type": "markdown",
      "source": [
        "### 1) Design a single-unit perceptron for binary classification"
      ],
      "metadata": {
        "id": "-3m4NFrb2Gw-"
      }
    },
    {
      "cell_type": "code",
      "execution_count": null,
      "metadata": {
        "id": "zwFnJsE6vjf8",
        "outputId": "20f3ca33-7c22-46f5-b1a8-a8987b58f36f",
        "colab": {
          "base_uri": "https://localhost:8080/"
        }
      },
      "outputs": [
        {
          "output_type": "execute_result",
          "data": {
            "text/plain": [
              "{'OR': array([0, 1, 1, 1]),\n",
              " 'AND': array([0, 0, 0, 1]),\n",
              " 'XOR': array([1, 1, 0, 0])}"
            ]
          },
          "metadata": {},
          "execution_count": 1
        }
      ],
      "source": [
        "import numpy as np\n",
        "\n",
        "# Step function for binary output\n",
        "def step_function(x):\n",
        "    return np.where(x >= 0, 1, 0)\n",
        "\n",
        "# Perceptron class\n",
        "class Perceptron:\n",
        "    def __init__(self, input_size, lr=0.01, epochs=1000):\n",
        "        self.weights = np.zeros(input_size + 1)  # Add 1 for the bias\n",
        "        self.lr = lr\n",
        "        self.epochs = epochs\n",
        "\n",
        "    def fit(self, X, y):\n",
        "        # Add bias column\n",
        "        X = np.c_[X, np.ones(X.shape[0])]\n",
        "        for _ in range(self.epochs):\n",
        "            for xi, target in zip(X, y):\n",
        "                update = self.lr * (target - self.predict(xi[:-1]))\n",
        "                self.weights += update * xi\n",
        "\n",
        "    def predict(self, X):\n",
        "        # Add bias column if necessary\n",
        "        if X.ndim == 1:  # Single sample\n",
        "            X = np.append(X, 1)  # Add bias term\n",
        "        else:\n",
        "            X = np.c_[X, np.ones(X.shape[0])]  # Add bias for all samples\n",
        "        return step_function(np.dot(X, self.weights))\n",
        "\n",
        "# Data: OR, AND, XOR\n",
        "datasets = {\n",
        "    \"OR\": (np.array([[0, 0], [0, 1], [1, 0], [1, 1]]), np.array([0, 1, 1, 1])),\n",
        "    \"AND\": (np.array([[0, 0], [0, 1], [1, 0], [1, 1]]), np.array([0, 0, 0, 1])),\n",
        "    \"XOR\": (np.array([[0, 0], [0, 1], [1, 0], [1, 1]]), np.array([0, 1, 1, 0])),\n",
        "}\n",
        "\n",
        "# Train and test the fixed perceptron\n",
        "results = {}\n",
        "for key, (X, y) in datasets.items():\n",
        "    perceptron = Perceptron(input_size=2, lr=0.1, epochs=1000)\n",
        "    perceptron.fit(X, y)\n",
        "    predictions = perceptron.predict(X)\n",
        "    results[key] = predictions\n",
        "\n",
        "results\n"
      ]
    },
    {
      "cell_type": "markdown",
      "source": [
        "Problem with single perceptron - cannot correctly predict XOR, the perceptron gives the output for XOR as 'XOR': array([1, 1, 0, 0]) instead of [0, 1, 1, 0].\n",
        "\n",
        "Why?\n",
        "A single perceptron cannot correctly predict non-linearly separable data"
      ],
      "metadata": {
        "id": "iHHX2xaU1iG7"
      }
    },
    {
      "cell_type": "markdown",
      "source": [
        "### 2) Use Perceptron from sklearn"
      ],
      "metadata": {
        "id": "kLqYtERa2Mmz"
      }
    },
    {
      "cell_type": "code",
      "source": [
        "from sklearn.linear_model import Perceptron\n",
        "from sklearn.metrics import accuracy_score\n",
        "\n",
        "# Train and test using sklearn's Perceptron\n",
        "results_sklearn = {}\n",
        "for key, (X, y) in datasets.items():\n",
        "    model = Perceptron(max_iter=1000, eta0=0.1, random_state=42)\n",
        "    model.fit(X, y)\n",
        "    predictions = model.predict(X)\n",
        "    results_sklearn[key] = {\n",
        "        \"predictions\": predictions,\n",
        "        \"accuracy\": accuracy_score(y, predictions),\n",
        "    }\n",
        "\n",
        "results_sklearn\n"
      ],
      "metadata": {
        "id": "rHsWF_Wr0zoR",
        "outputId": "d901eb33-2b9a-4e50-e555-fe48ecce4df8",
        "colab": {
          "base_uri": "https://localhost:8080/"
        }
      },
      "execution_count": null,
      "outputs": [
        {
          "output_type": "execute_result",
          "data": {
            "text/plain": [
              "{'OR': {'predictions': array([0, 1, 1, 1]), 'accuracy': 1.0},\n",
              " 'AND': {'predictions': array([0, 0, 0, 1]), 'accuracy': 1.0},\n",
              " 'XOR': {'predictions': array([0, 0, 0, 0]), 'accuracy': 0.5}}"
            ]
          },
          "metadata": {},
          "execution_count": 2
        }
      ]
    },
    {
      "cell_type": "markdown",
      "source": [
        "Problem in this - again when we use the perceptron from sklearn library it is not able to correctly predict the XOR results (same as our own defined perceptron class).\n",
        "\n",
        "Again proving that a single perceptron cannot give predictions for non-linearly separable data correctly."
      ],
      "metadata": {
        "id": "ME8HVHcG2FQt"
      }
    },
    {
      "cell_type": "markdown",
      "source": [
        "## 3) Multiclass Classification: MNIST Dataset\n",
        "\n",
        "### Algorithm: Feedforward Neural Network (SimpleNN)\n",
        "The model used in this code is a feedforward neural network (FNN), which is a type of artificial neural network where connections between the nodes do not form a cycle. It consists of the following layers:\n",
        "\n",
        "**Input Layer:**\n",
        "\n",
        "The input is a 28x28 pixel grayscale image (MNIST dataset), flattened into a 1D vector of size 784 (28 * 28 = 784).\n",
        "\n",
        "**Hidden Layer:**\n",
        "\n",
        "A fully connected (dense) layer with 128 neurons. Each input is connected to each neuron in this layer. The activation function used in this layer is ReLU (Rectified Linear Unit), which introduces non-linearity into the model. This is crucial for learning complex patterns.\n",
        "\n",
        "**Output Layer:**\n",
        "\n",
        "A fully connected layer with 10 output neurons, corresponding to the 10 possible digits (0-9). The output layer uses Softmax (implicitly within the CrossEntropyLoss), which converts the raw output scores into probabilities. Each output represents the probability of the image belonging to one of the classes (digits).\n",
        "\n",
        "**Forward Propagation:**\n",
        "\n",
        "The input is passed through the layers sequentially, and the output of each layer is used as the input to the next layer. The final output layer gives a probability distribution over the 10 classes.\n",
        "\n",
        "### Hyperparameters :\n",
        "\n",
        "**Learning Rate (lr = 0.001)**: Controls the step size during optimization, balancing fast convergence with stability.\n",
        "\n",
        "**Batch Size (64)**: Defines how many samples are processed together before the model’s weights are updated.\n",
        "\n",
        "**Optimizer (Adam)**: An adaptive optimization algorithm that adjusts the learning rate for each parameter based on past gradients.\n",
        "\n",
        "**Loss Function (Cross-Entropy Loss)**: Measures the difference between predicted and actual class labels for classification tasks.\n",
        "\n",
        "**Activation Function (ReLU)**: Introduces non-linearity by outputting the input if positive, or zero otherwise.\n",
        "\n",
        "**Epochs (50)**: The number of times the entire training dataset is passed through the network during training."
      ],
      "metadata": {
        "id": "0hdfr6oz21K3"
      }
    },
    {
      "cell_type": "code",
      "source": [
        "# Exploring MNIST dataset\n",
        "\n",
        "import torch\n",
        "from torchvision import datasets, transforms\n",
        "import matplotlib.pyplot as plt\n",
        "\n",
        "# Check if GPU is available\n",
        "device = torch.device(\"cuda\" if torch.cuda.is_available() else \"cpu\")\n",
        "print(f\"Using device: {device}\")\n",
        "\n",
        "# Load MNIST dataset\n",
        "transform = transforms.Compose([transforms.ToTensor()])\n",
        "mnist_train = datasets.MNIST(root=\"./data\", train=True, download=True, transform=transform)\n",
        "\n",
        "# Move data to GPU\n",
        "data_loader = torch.utils.data.DataLoader(mnist_train, batch_size=len(mnist_train), shuffle=False)\n",
        "data_iter = iter(data_loader)\n",
        "images, labels = next(data_iter)\n",
        "\n",
        "# Move to GPU\n",
        "images, labels = images.to(device), labels.to(device)\n",
        "\n",
        "# Analyze the dataset\n",
        "num_samples = len(labels)\n",
        "num_features = images[0].numel()\n",
        "num_classes = len(torch.unique(labels))\n",
        "class_distribution = {label.item(): (labels == label).sum().item() for label in torch.unique(labels)}\n",
        "\n",
        "# Display dataset information\n",
        "print(\"MNIST Dataset Analysis:\")\n",
        "print(f\"Number of Samples: {num_samples}\")\n",
        "print(f\"Number of Features: {num_features} (28x28 pixels)\")\n",
        "print(f\"Number of Classes: {num_classes}\")\n",
        "print(\"Class Distribution:\")\n",
        "for label, count in class_distribution.items():\n",
        "    print(f\"  Class {label}: {count} samples\")\n",
        "\n",
        "# Visualize a few samples from the dataset\n",
        "def visualize_samples(images, labels, num_samples=10):\n",
        "    images, labels = images[:num_samples].cpu(), labels[:num_samples].cpu()  # Move to CPU for visualization\n",
        "    plt.figure(figsize=(12, 3))\n",
        "    for i in range(num_samples):\n",
        "        plt.subplot(1, num_samples, i + 1)\n",
        "        plt.imshow(images[i].squeeze(0), cmap=\"gray\")\n",
        "        plt.title(f\"Label: {labels[i].item()}\")\n",
        "        plt.axis(\"off\")\n",
        "    plt.tight_layout()\n",
        "    plt.show()\n",
        "\n",
        "# Visualize samples\n",
        "visualize_samples(images, labels)\n"
      ],
      "metadata": {
        "id": "UDCK6Doo33lr",
        "outputId": "30dd1594-b7ce-4ee2-f229-e7f2e88d0b7a",
        "colab": {
          "base_uri": "https://localhost:8080/",
          "height": 1000
        }
      },
      "execution_count": null,
      "outputs": [
        {
          "output_type": "stream",
          "name": "stdout",
          "text": [
            "Using device: cuda\n",
            "Downloading http://yann.lecun.com/exdb/mnist/train-images-idx3-ubyte.gz\n",
            "Failed to download (trying next):\n",
            "<urlopen error [Errno 111] Connection refused>\n",
            "\n",
            "Downloading https://ossci-datasets.s3.amazonaws.com/mnist/train-images-idx3-ubyte.gz\n",
            "Downloading https://ossci-datasets.s3.amazonaws.com/mnist/train-images-idx3-ubyte.gz to ./data/MNIST/raw/train-images-idx3-ubyte.gz\n"
          ]
        },
        {
          "output_type": "stream",
          "name": "stderr",
          "text": [
            "100%|██████████| 9.91M/9.91M [00:10<00:00, 904kB/s] \n"
          ]
        },
        {
          "output_type": "stream",
          "name": "stdout",
          "text": [
            "Extracting ./data/MNIST/raw/train-images-idx3-ubyte.gz to ./data/MNIST/raw\n",
            "\n",
            "Downloading http://yann.lecun.com/exdb/mnist/train-labels-idx1-ubyte.gz\n",
            "Failed to download (trying next):\n",
            "<urlopen error [Errno 111] Connection refused>\n",
            "\n",
            "Downloading https://ossci-datasets.s3.amazonaws.com/mnist/train-labels-idx1-ubyte.gz\n",
            "Downloading https://ossci-datasets.s3.amazonaws.com/mnist/train-labels-idx1-ubyte.gz to ./data/MNIST/raw/train-labels-idx1-ubyte.gz\n"
          ]
        },
        {
          "output_type": "stream",
          "name": "stderr",
          "text": [
            "100%|██████████| 28.9k/28.9k [00:00<00:00, 135kB/s]\n"
          ]
        },
        {
          "output_type": "stream",
          "name": "stdout",
          "text": [
            "Extracting ./data/MNIST/raw/train-labels-idx1-ubyte.gz to ./data/MNIST/raw\n",
            "\n",
            "Downloading http://yann.lecun.com/exdb/mnist/t10k-images-idx3-ubyte.gz\n",
            "Failed to download (trying next):\n",
            "<urlopen error [Errno 111] Connection refused>\n",
            "\n",
            "Downloading https://ossci-datasets.s3.amazonaws.com/mnist/t10k-images-idx3-ubyte.gz\n",
            "Downloading https://ossci-datasets.s3.amazonaws.com/mnist/t10k-images-idx3-ubyte.gz to ./data/MNIST/raw/t10k-images-idx3-ubyte.gz\n"
          ]
        },
        {
          "output_type": "stream",
          "name": "stderr",
          "text": [
            "100%|██████████| 1.65M/1.65M [00:01<00:00, 1.11MB/s]\n"
          ]
        },
        {
          "output_type": "stream",
          "name": "stdout",
          "text": [
            "Extracting ./data/MNIST/raw/t10k-images-idx3-ubyte.gz to ./data/MNIST/raw\n",
            "\n",
            "Downloading http://yann.lecun.com/exdb/mnist/t10k-labels-idx1-ubyte.gz\n",
            "Failed to download (trying next):\n",
            "<urlopen error [Errno 111] Connection refused>\n",
            "\n",
            "Downloading https://ossci-datasets.s3.amazonaws.com/mnist/t10k-labels-idx1-ubyte.gz\n",
            "Downloading https://ossci-datasets.s3.amazonaws.com/mnist/t10k-labels-idx1-ubyte.gz to ./data/MNIST/raw/t10k-labels-idx1-ubyte.gz\n"
          ]
        },
        {
          "output_type": "stream",
          "name": "stderr",
          "text": [
            "100%|██████████| 4.54k/4.54k [00:00<00:00, 1.65MB/s]\n"
          ]
        },
        {
          "output_type": "stream",
          "name": "stdout",
          "text": [
            "Extracting ./data/MNIST/raw/t10k-labels-idx1-ubyte.gz to ./data/MNIST/raw\n",
            "\n",
            "MNIST Dataset Analysis:\n",
            "Number of Samples: 60000\n",
            "Number of Features: 784 (28x28 pixels)\n",
            "Number of Classes: 10\n",
            "Class Distribution:\n",
            "  Class 0: 5923 samples\n",
            "  Class 1: 6742 samples\n",
            "  Class 2: 5958 samples\n",
            "  Class 3: 6131 samples\n",
            "  Class 4: 5842 samples\n",
            "  Class 5: 5421 samples\n",
            "  Class 6: 5918 samples\n",
            "  Class 7: 6265 samples\n",
            "  Class 8: 5851 samples\n",
            "  Class 9: 5949 samples\n"
          ]
        },
        {
          "output_type": "display_data",
          "data": {
            "text/plain": [
              "<Figure size 1200x300 with 10 Axes>"
            ],
            "image/png": "[encoded data removed]"
          },
          "metadata": {}
        }
      ]
    },
    {
      "cell_type": "code",
      "source": [
        "import torch\n",
        "import torch.nn as nn\n",
        "import torch.optim as optim\n",
        "import matplotlib.pyplot as plt\n",
        "from torchvision import datasets, transforms\n",
        "\n",
        "# Check if GPU is available\n",
        "device = torch.device(\"cuda\" if torch.cuda.is_available() else \"cpu\")\n",
        "print(f\"Using device: {device}\")\n",
        "\n",
        "# Define a simple feedforward neural network\n",
        "class SimpleNN(nn.Module):\n",
        "    def __init__(self):\n",
        "        super(SimpleNN, self).__init__()\n",
        "        self.fc1 = nn.Linear(28 * 28, 128)  # Input layer to hidden layer\n",
        "        self.relu = nn.ReLU()  # Activation function\n",
        "        self.fc2 = nn.Linear(128, 10)  # Hidden layer to output layer\n",
        "\n",
        "    def forward(self, x):\n",
        "        x = x.view(-1, 28 * 28)  # Flatten the input images\n",
        "        x = self.fc1(x)\n",
        "        x = self.relu(x)\n",
        "        x = self.fc2(x)\n",
        "        return x\n",
        "\n",
        "# Data transformation\n",
        "transform = transforms.Compose([transforms.ToTensor()])\n",
        "mnist_train = datasets.MNIST(root=\"./data\", train=True, download=True, transform=transform)\n",
        "mnist_test = datasets.MNIST(root=\"./data\", train=False, download=True, transform=transform)\n",
        "\n",
        "# Prepare data loaders\n",
        "batch_size = 64\n",
        "train_loader = torch.utils.data.DataLoader(mnist_train, batch_size=batch_size, shuffle=True)\n",
        "test_loader = torch.utils.data.DataLoader(mnist_test, batch_size=batch_size, shuffle=False)\n",
        "\n",
        "# Instantiate the model, loss function, and optimizer\n",
        "model = SimpleNN().to(device)\n",
        "criterion = nn.CrossEntropyLoss()\n",
        "optimizer = optim.Adam(model.parameters(), lr=0.001)\n",
        "\n",
        "# Update the test function to return accuracy\n",
        "def test(model, test_loader, device):\n",
        "    model.eval()\n",
        "    correct = 0\n",
        "    total = 0\n",
        "    with torch.no_grad():\n",
        "        for images, labels in test_loader:\n",
        "            images, labels = images.to(device), labels.to(device)\n",
        "            outputs = model(images)\n",
        "            _, predicted = torch.max(outputs, 1)\n",
        "            total += labels.size(0)\n",
        "            correct += (predicted == labels).sum().item()\n",
        "    accuracy = 100 * correct / total\n",
        "    return accuracy\n",
        "\n",
        "# Update the training function to calculate and store accuracy\n",
        "def train_with_accuracy(model, train_loader, criterion, optimizer, device, epochs=50):\n",
        "    model.train()\n",
        "    train_losses = []\n",
        "    train_accuracies = []\n",
        "    test_accuracies = []\n",
        "\n",
        "    for epoch in range(epochs):\n",
        "        running_loss = 0.0\n",
        "        correct = 0\n",
        "        total = 0\n",
        "\n",
        "        for images, labels in train_loader:\n",
        "            images, labels = images.to(device), labels.to(device)\n",
        "\n",
        "            # Forward pass\n",
        "            outputs = model(images)\n",
        "            loss = criterion(outputs, labels)\n",
        "\n",
        "            # Backward pass and optimization\n",
        "            optimizer.zero_grad()\n",
        "            loss.backward()\n",
        "            optimizer.step()\n",
        "\n",
        "            # Accumulate loss\n",
        "            running_loss += loss.item()\n",
        "\n",
        "            # Calculate training accuracy\n",
        "            _, predicted = torch.max(outputs, 1)\n",
        "            total += labels.size(0)\n",
        "            correct += (predicted == labels).sum().item()\n",
        "\n",
        "        # Store metrics\n",
        "        epoch_loss = running_loss / len(train_loader)\n",
        "        epoch_accuracy = 100 * correct / total\n",
        "        train_losses.append(epoch_loss)\n",
        "        train_accuracies.append(epoch_accuracy)\n",
        "\n",
        "        # Test accuracy after every epoch\n",
        "        test_accuracy = test(model, test_loader, device)\n",
        "        test_accuracies.append(test_accuracy)\n",
        "\n",
        "        print(f\"Epoch {epoch + 1}/{epochs}, Loss: {epoch_loss:.4f}, Train Accuracy: {epoch_accuracy:.2f}%, Test Accuracy: {test_accuracy:.2f}%\")\n",
        "\n",
        "    return train_losses, train_accuracies, test_accuracies\n",
        "\n",
        "# Train the model and get accuracies\n",
        "epochs = 50\n",
        "train_losses, train_accuracies, test_accuracies = train_with_accuracy(\n",
        "    model, train_loader, criterion, optimizer, device, epochs=epochs\n",
        ")\n",
        "\n",
        "# Plot training and test accuracy\n",
        "plt.figure(figsize=(10, 6))\n",
        "plt.plot(range(1, epochs + 1), train_accuracies, label=\"Train Accuracy\", marker=\"o\")\n",
        "plt.plot(range(1, epochs + 1), test_accuracies, label=\"Test Accuracy\", marker=\"o\")\n",
        "plt.title(\"Train and Test Accuracy over Epochs\")\n",
        "plt.xlabel(\"Epochs\")\n",
        "plt.ylabel(\"Accuracy (%)\")\n",
        "plt.legend()\n",
        "plt.grid(True)\n",
        "plt.show()\n",
        "\n",
        "# Final test\n",
        "final_test_accuracy = test(model, test_loader, device)\n",
        "print(f\"Final Test Accuracy: {final_test_accuracy:.2f}%\")\n"
      ],
      "metadata": {
        "id": "d-sV2U8p20RA",
        "outputId": "c62df79c-9b7b-43e3-84b7-1a6258d2a69a",
        "colab": {
          "base_uri": "https://localhost:8080/",
          "height": 1000
        }
      },
      "execution_count": null,
      "outputs": [
        {
          "output_type": "stream",
          "name": "stdout",
          "text": [
            "Using device: cuda\n",
            "Epoch 1/50, Loss: 0.3516, Train Accuracy: 90.57%, Test Accuracy: 94.30%\n",
            "Epoch 2/50, Loss: 0.1621, Train Accuracy: 95.33%, Test Accuracy: 96.25%\n",
            "Epoch 3/50, Loss: 0.1092, Train Accuracy: 96.85%, Test Accuracy: 97.07%\n",
            "Epoch 4/50, Loss: 0.0824, Train Accuracy: 97.61%, Test Accuracy: 97.25%\n",
            "Epoch 5/50, Loss: 0.0644, Train Accuracy: 98.12%, Test Accuracy: 97.46%\n",
            "Epoch 6/50, Loss: 0.0514, Train Accuracy: 98.47%, Test Accuracy: 97.47%\n",
            "Epoch 7/50, Loss: 0.0419, Train Accuracy: 98.77%, Test Accuracy: 97.89%\n",
            "Epoch 8/50, Loss: 0.0341, Train Accuracy: 98.98%, Test Accuracy: 97.89%\n",
            "Epoch 9/50, Loss: 0.0275, Train Accuracy: 99.25%, Test Accuracy: 97.71%\n",
            "Epoch 10/50, Loss: 0.0232, Train Accuracy: 99.36%, Test Accuracy: 97.90%\n",
            "Epoch 11/50, Loss: 0.0190, Train Accuracy: 99.48%, Test Accuracy: 97.95%\n",
            "Epoch 12/50, Loss: 0.0160, Train Accuracy: 99.56%, Test Accuracy: 97.83%\n",
            "Epoch 13/50, Loss: 0.0130, Train Accuracy: 99.67%, Test Accuracy: 97.48%\n",
            "Epoch 14/50, Loss: 0.0110, Train Accuracy: 99.72%, Test Accuracy: 97.95%\n",
            "Epoch 15/50, Loss: 0.0100, Train Accuracy: 99.74%, Test Accuracy: 97.80%\n",
            "Epoch 16/50, Loss: 0.0079, Train Accuracy: 99.81%, Test Accuracy: 97.90%\n",
            "Epoch 17/50, Loss: 0.0077, Train Accuracy: 99.79%, Test Accuracy: 97.93%\n",
            "Epoch 18/50, Loss: 0.0059, Train Accuracy: 99.87%, Test Accuracy: 97.70%\n",
            "Epoch 19/50, Loss: 0.0053, Train Accuracy: 99.89%, Test Accuracy: 97.74%\n",
            "Epoch 20/50, Loss: 0.0061, Train Accuracy: 99.85%, Test Accuracy: 97.86%\n",
            "Epoch 21/50, Loss: 0.0040, Train Accuracy: 99.92%, Test Accuracy: 97.89%\n",
            "Epoch 22/50, Loss: 0.0049, Train Accuracy: 99.86%, Test Accuracy: 97.88%\n",
            "Epoch 23/50, Loss: 0.0046, Train Accuracy: 99.86%, Test Accuracy: 97.97%\n",
            "Epoch 24/50, Loss: 0.0024, Train Accuracy: 99.95%, Test Accuracy: 97.81%\n",
            "Epoch 25/50, Loss: 0.0045, Train Accuracy: 99.86%, Test Accuracy: 97.73%\n",
            "Epoch 26/50, Loss: 0.0032, Train Accuracy: 99.91%, Test Accuracy: 98.08%\n",
            "Epoch 27/50, Loss: 0.0008, Train Accuracy: 99.99%, Test Accuracy: 97.94%\n",
            "Epoch 28/50, Loss: 0.0075, Train Accuracy: 99.74%, Test Accuracy: 97.93%\n",
            "Epoch 29/50, Loss: 0.0024, Train Accuracy: 99.94%, Test Accuracy: 97.95%\n",
            "Epoch 30/50, Loss: 0.0008, Train Accuracy: 99.99%, Test Accuracy: 98.05%\n",
            "Epoch 31/50, Loss: 0.0003, Train Accuracy: 100.00%, Test Accuracy: 98.17%\n",
            "Epoch 32/50, Loss: 0.0028, Train Accuracy: 99.92%, Test Accuracy: 96.54%\n",
            "Epoch 33/50, Loss: 0.0080, Train Accuracy: 99.74%, Test Accuracy: 98.21%\n",
            "Epoch 34/50, Loss: 0.0009, Train Accuracy: 99.98%, Test Accuracy: 98.00%\n",
            "Epoch 35/50, Loss: 0.0007, Train Accuracy: 99.99%, Test Accuracy: 98.07%\n",
            "Epoch 36/50, Loss: 0.0002, Train Accuracy: 100.00%, Test Accuracy: 98.12%\n",
            "Epoch 37/50, Loss: 0.0001, Train Accuracy: 100.00%, Test Accuracy: 98.19%\n",
            "Epoch 38/50, Loss: 0.0059, Train Accuracy: 99.82%, Test Accuracy: 97.65%\n",
            "Epoch 39/50, Loss: 0.0048, Train Accuracy: 99.82%, Test Accuracy: 97.96%\n",
            "Epoch 40/50, Loss: 0.0013, Train Accuracy: 99.96%, Test Accuracy: 97.97%\n",
            "Epoch 41/50, Loss: 0.0016, Train Accuracy: 99.96%, Test Accuracy: 98.08%\n",
            "Epoch 42/50, Loss: 0.0033, Train Accuracy: 99.89%, Test Accuracy: 97.97%\n",
            "Epoch 43/50, Loss: 0.0003, Train Accuracy: 100.00%, Test Accuracy: 98.15%\n",
            "Epoch 44/50, Loss: 0.0001, Train Accuracy: 100.00%, Test Accuracy: 98.12%\n",
            "Epoch 45/50, Loss: 0.0001, Train Accuracy: 100.00%, Test Accuracy: 98.19%\n",
            "Epoch 46/50, Loss: 0.0001, Train Accuracy: 100.00%, Test Accuracy: 98.17%\n",
            "Epoch 47/50, Loss: 0.0001, Train Accuracy: 100.00%, Test Accuracy: 98.17%\n",
            "Epoch 48/50, Loss: 0.0048, Train Accuracy: 99.88%, Test Accuracy: 96.97%\n",
            "Epoch 49/50, Loss: 0.0064, Train Accuracy: 99.79%, Test Accuracy: 97.79%\n",
            "Epoch 50/50, Loss: 0.0012, Train Accuracy: 99.97%, Test Accuracy: 98.00%\n"
          ]
        },
        {
          "output_type": "display_data",
          "data": {
            "text/plain": [
              "<Figure size 1000x600 with 1 Axes>"
            ],
            "image/png": "[encoded data removed]"
          },
          "metadata": {}
        },
        {
          "output_type": "stream",
          "name": "stdout",
          "text": [
            "Final Test Accuracy: 98.00%\n"
          ]
        }
      ]
    },
    {
      "cell_type": "markdown",
      "source": [
        "#### Conclusion\n",
        "\n",
        "The model achieves nearly 100% training accuracy, with test accuracy stabilizing around 97-98%, indicating good generalization without overfitting. The consistent decrease in loss and high test accuracy suggest the model is effectively learning and performing well on unseen data."
      ],
      "metadata": {
        "id": "qAl6Ycts8e8b"
      }
    }
  ],
  "metadata": {
    "colab": {
      "toc_visible": true,
      "provenance": [],
      "gpuType": "T4"
    },
    "kernelspec": {
      "display_name": "Python 3",
      "name": "python3"
    },
    "accelerator": "GPU"
  },
  "nbformat": 4,
  "nbformat_minor": 0
}